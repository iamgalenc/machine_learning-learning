{
 "cells": [
  {
   "cell_type": "code",
   "execution_count": 32,
   "metadata": {},
   "outputs": [],
   "source": [
    "import pandas as pd\n",
    "from sklearn.linear_model import LogisticRegression\n",
    "from sklearn.preprocessing import StandardScaler\n",
    "from sklearn.model_selection import train_test_split\n",
    "from sklearn.metrics import accuracy_score, confusion_matrix"
   ]
  },
  {
   "cell_type": "code",
   "execution_count": 33,
   "metadata": {},
   "outputs": [
    {
     "data": {
      "text/html": [
       "<div>\n",
       "<style scoped>\n",
       "    .dataframe tbody tr th:only-of-type {\n",
       "        vertical-align: middle;\n",
       "    }\n",
       "\n",
       "    .dataframe tbody tr th {\n",
       "        vertical-align: top;\n",
       "    }\n",
       "\n",
       "    .dataframe thead th {\n",
       "        text-align: right;\n",
       "    }\n",
       "</style>\n",
       "<table border=\"1\" class=\"dataframe\">\n",
       "  <thead>\n",
       "    <tr style=\"text-align: right;\">\n",
       "      <th></th>\n",
       "      <th>SepalLengthCm</th>\n",
       "      <th>SepalWidthCm</th>\n",
       "      <th>PetalLengthCm</th>\n",
       "      <th>PetalWidthCm</th>\n",
       "      <th>Species</th>\n",
       "    </tr>\n",
       "  </thead>\n",
       "  <tbody>\n",
       "    <tr>\n",
       "      <th>0</th>\n",
       "      <td>5.1</td>\n",
       "      <td>3.5</td>\n",
       "      <td>1.4</td>\n",
       "      <td>0.2</td>\n",
       "      <td>Iris-setosa</td>\n",
       "    </tr>\n",
       "    <tr>\n",
       "      <th>1</th>\n",
       "      <td>4.9</td>\n",
       "      <td>3.0</td>\n",
       "      <td>1.4</td>\n",
       "      <td>0.2</td>\n",
       "      <td>Iris-setosa</td>\n",
       "    </tr>\n",
       "    <tr>\n",
       "      <th>2</th>\n",
       "      <td>4.7</td>\n",
       "      <td>3.2</td>\n",
       "      <td>1.3</td>\n",
       "      <td>0.2</td>\n",
       "      <td>Iris-setosa</td>\n",
       "    </tr>\n",
       "    <tr>\n",
       "      <th>3</th>\n",
       "      <td>4.6</td>\n",
       "      <td>3.1</td>\n",
       "      <td>1.5</td>\n",
       "      <td>0.2</td>\n",
       "      <td>Iris-setosa</td>\n",
       "    </tr>\n",
       "    <tr>\n",
       "      <th>4</th>\n",
       "      <td>5.0</td>\n",
       "      <td>3.6</td>\n",
       "      <td>1.4</td>\n",
       "      <td>0.2</td>\n",
       "      <td>Iris-setosa</td>\n",
       "    </tr>\n",
       "    <tr>\n",
       "      <th>...</th>\n",
       "      <td>...</td>\n",
       "      <td>...</td>\n",
       "      <td>...</td>\n",
       "      <td>...</td>\n",
       "      <td>...</td>\n",
       "    </tr>\n",
       "    <tr>\n",
       "      <th>145</th>\n",
       "      <td>6.7</td>\n",
       "      <td>3.0</td>\n",
       "      <td>5.2</td>\n",
       "      <td>2.3</td>\n",
       "      <td>Iris-virginica</td>\n",
       "    </tr>\n",
       "    <tr>\n",
       "      <th>146</th>\n",
       "      <td>6.3</td>\n",
       "      <td>2.5</td>\n",
       "      <td>5.0</td>\n",
       "      <td>1.9</td>\n",
       "      <td>Iris-virginica</td>\n",
       "    </tr>\n",
       "    <tr>\n",
       "      <th>147</th>\n",
       "      <td>6.5</td>\n",
       "      <td>3.0</td>\n",
       "      <td>5.2</td>\n",
       "      <td>2.0</td>\n",
       "      <td>Iris-virginica</td>\n",
       "    </tr>\n",
       "    <tr>\n",
       "      <th>148</th>\n",
       "      <td>6.2</td>\n",
       "      <td>3.4</td>\n",
       "      <td>5.4</td>\n",
       "      <td>2.3</td>\n",
       "      <td>Iris-virginica</td>\n",
       "    </tr>\n",
       "    <tr>\n",
       "      <th>149</th>\n",
       "      <td>5.9</td>\n",
       "      <td>3.0</td>\n",
       "      <td>5.1</td>\n",
       "      <td>1.8</td>\n",
       "      <td>Iris-virginica</td>\n",
       "    </tr>\n",
       "  </tbody>\n",
       "</table>\n",
       "<p>150 rows × 5 columns</p>\n",
       "</div>"
      ],
      "text/plain": [
       "     SepalLengthCm  SepalWidthCm  PetalLengthCm  PetalWidthCm         Species\n",
       "0              5.1           3.5            1.4           0.2     Iris-setosa\n",
       "1              4.9           3.0            1.4           0.2     Iris-setosa\n",
       "2              4.7           3.2            1.3           0.2     Iris-setosa\n",
       "3              4.6           3.1            1.5           0.2     Iris-setosa\n",
       "4              5.0           3.6            1.4           0.2     Iris-setosa\n",
       "..             ...           ...            ...           ...             ...\n",
       "145            6.7           3.0            5.2           2.3  Iris-virginica\n",
       "146            6.3           2.5            5.0           1.9  Iris-virginica\n",
       "147            6.5           3.0            5.2           2.0  Iris-virginica\n",
       "148            6.2           3.4            5.4           2.3  Iris-virginica\n",
       "149            5.9           3.0            5.1           1.8  Iris-virginica\n",
       "\n",
       "[150 rows x 5 columns]"
      ]
     },
     "execution_count": 33,
     "metadata": {},
     "output_type": "execute_result"
    }
   ],
   "source": [
    "df = pd.read_csv('Iris.csv')\n",
    "df_temp=df.drop('Id', axis=1)\n",
    "df_temp"
   ]
  },
  {
   "cell_type": "code",
   "execution_count": 34,
   "metadata": {},
   "outputs": [],
   "source": [
    "#Cleaning data\n",
    "missing = df_temp.isnull().sum()\n",
    "clean_data = df_temp.dropna()\n",
    "clean_data\n",
    "\n",
    "clean_data.to_csv('cleanIris.csv', index=False)\n",
    "df1 = pd.read_csv('cleanIris.csv')"
   ]
  },
  {
   "cell_type": "code",
   "execution_count": 35,
   "metadata": {},
   "outputs": [
    {
     "name": "stdout",
     "output_type": "stream",
     "text": [
      "     SepalLengthCm  SepalWidthCm  PetalLengthCm  PetalWidthCm\n",
      "0              5.1           3.5            1.4           0.2\n",
      "1              4.9           3.0            1.4           0.2\n",
      "2              4.7           3.2            1.3           0.2\n",
      "3              4.6           3.1            1.5           0.2\n",
      "4              5.0           3.6            1.4           0.2\n",
      "..             ...           ...            ...           ...\n",
      "145            6.7           3.0            5.2           2.3\n",
      "146            6.3           2.5            5.0           1.9\n",
      "147            6.5           3.0            5.2           2.0\n",
      "148            6.2           3.4            5.4           2.3\n",
      "149            5.9           3.0            5.1           1.8\n",
      "\n",
      "[150 rows x 4 columns] 0         Iris-setosa\n",
      "1         Iris-setosa\n",
      "2         Iris-setosa\n",
      "3         Iris-setosa\n",
      "4         Iris-setosa\n",
      "            ...      \n",
      "145    Iris-virginica\n",
      "146    Iris-virginica\n",
      "147    Iris-virginica\n",
      "148    Iris-virginica\n",
      "149    Iris-virginica\n",
      "Name: Species, Length: 150, dtype: object\n"
     ]
    }
   ],
   "source": [
    "#Create X Y for training and testing\n",
    "X = df1.drop('Species', axis=1)\n",
    "Y = df1['Species']\n",
    "print(X,Y)"
   ]
  },
  {
   "cell_type": "code",
   "execution_count": 36,
   "metadata": {},
   "outputs": [],
   "source": [
    "#Create training data and test data\n",
    "X_train, X_test, Y_train, Y_test = train_test_split(X, Y, test_size=0.2, random_state=42)"
   ]
  },
  {
   "cell_type": "code",
   "execution_count": 38,
   "metadata": {},
   "outputs": [
    {
     "name": "stdout",
     "output_type": "stream",
     "text": [
      "[[-1.47393679  1.22037928 -1.5639872  -1.30948358]\n",
      " [-0.13307079  3.02001693 -1.27728011 -1.04292204]\n",
      " [ 1.08589829  0.09560575  0.38562104  0.28988568]\n",
      " [-1.23014297  0.77046987 -1.21993869 -1.30948358]\n",
      " [-1.7177306   0.32056046 -1.39196294 -1.30948358]\n",
      " [ 0.59831066 -1.25412249  0.72966956  0.95628954]\n",
      " [ 0.72020757  0.32056046  0.44296246  0.42316645]\n",
      " [-0.74255534  0.99542457 -1.27728011 -1.30948358]\n",
      " [-0.98634915  1.22037928 -1.33462153 -1.30948358]\n",
      " [-0.74255534  2.34515281 -1.27728011 -1.44276436]\n",
      " [-0.01117388 -0.80421307  0.78701097  0.95628954]\n",
      " [ 0.23261993  0.77046987  0.44296246  0.55644722]\n",
      " [ 1.08589829  0.09560575  0.5576453   0.42316645]\n",
      " [-0.49876152  1.8952434  -1.39196294 -1.04292204]\n",
      " [-0.49876152  1.44533399 -1.27728011 -1.30948358]\n",
      " [-0.37686461 -1.47907719 -0.01576889 -0.24323741]\n",
      " [ 0.59831066 -0.57925837  0.78701097  0.42316645]\n",
      " [ 0.72020757  0.09560575  1.01637665  0.82300877]\n",
      " [ 0.96400139 -0.12934896  0.38562104  0.28988568]\n",
      " [ 1.69538284  1.22037928  1.36042516  1.75597417]\n",
      " [-0.13307079 -0.35430366  0.2709382   0.15660491]\n",
      " [ 2.18297047 -0.12934896  1.64713226  1.22285108]\n",
      " [-0.2549677  -0.12934896  0.44296246  0.42316645]\n",
      " [-0.86445224  0.99542457 -1.33462153 -1.30948358]\n",
      " [ 2.30486738 -0.57925837  1.70447368  1.08957031]\n",
      " [-0.01117388 -0.80421307  0.21359679 -0.24323741]\n",
      " [-0.74255534  0.77046987 -1.33462153 -1.30948358]\n",
      " [-0.98634915  0.99542457 -1.39196294 -1.17620281]\n",
      " [-0.86445224  1.67028869 -1.04791443 -1.04292204]\n",
      " [-0.98634915 -2.37889602 -0.13045173 -0.24323741]\n",
      " [ 0.59831066 -0.80421307  0.67232814  0.82300877]\n",
      " [-1.23014297  0.77046987 -1.04791443 -1.30948358]\n",
      " [-0.98634915 -0.12934896 -1.21993869 -1.30948358]\n",
      " [-0.86445224  0.54551516 -1.16259727 -0.90964127]\n",
      " [-0.2549677  -0.80421307  0.2709382   0.15660491]\n",
      " [-0.86445224  0.77046987 -1.27728011 -1.30948358]\n",
      " [-0.13307079 -0.12934896  0.2709382   0.02332414]\n",
      " [ 2.30486738  1.67028869  1.70447368  1.35613185]\n",
      " [-1.47393679  0.32056046 -1.33462153 -1.30948358]\n",
      " [ 0.47641375 -0.35430366  0.32827962  0.15660491]\n",
      " [-0.13307079 -1.25412249  0.72966956  1.08957031]\n",
      " [-0.37686461  2.57010752 -1.33462153 -1.30948358]\n",
      " [ 0.23261993 -0.12934896  0.61498672  0.82300877]\n",
      " [-0.01117388 -0.80421307  0.78701097  0.95628954]\n",
      " [ 0.23261993 -1.9289866   0.15625537 -0.24323741]\n",
      " [-0.49876152 -0.12934896  0.44296246  0.42316645]\n",
      " [ 0.47641375  0.77046987  0.95903523  1.48941263]\n",
      " [-0.37686461 -1.7040319   0.15625537  0.15660491]\n",
      " [-0.49876152  1.8952434  -1.16259727 -1.04292204]\n",
      " [-0.98634915 -1.7040319  -0.24513457 -0.24323741]\n",
      " [ 0.72020757 -0.80421307  0.90169381  0.95628954]\n",
      " [-0.98634915  0.54551516 -1.33462153 -1.30948358]\n",
      " [-0.98634915  0.32056046 -1.44930436 -1.30948358]\n",
      " [-0.37686461 -1.47907719  0.04157253 -0.10995664]\n",
      " [ 1.08589829 -0.12934896  0.72966956  0.68972799]\n",
      " [-1.10824606  0.09560575 -1.27728011 -1.44276436]\n",
      " [-0.01117388 -0.57925837  0.78701097  1.6226934 ]\n",
      " [-0.98634915  0.77046987 -1.27728011 -1.30948358]\n",
      " [-0.98634915  0.99542457 -1.21993869 -0.7763605 ]\n",
      " [ 0.11072303  0.32056046  0.61498672  0.82300877]\n",
      " [-0.86445224 -1.25412249 -0.41715882 -0.10995664]\n",
      " [ 1.32969211  0.32056046  1.13105949  1.48941263]\n",
      " [ 0.23261993 -0.80421307  0.78701097  0.55644722]\n",
      " [ 0.35451684 -1.02916778  1.07371807  0.28988568]\n",
      " [ 2.30486738 -0.12934896  1.36042516  1.48941263]\n",
      " [-0.37686461 -1.25412249  0.15625537  0.15660491]\n",
      " [-1.7177306  -0.35430366 -1.33462153 -1.30948358]\n",
      " [-1.83962751 -0.12934896 -1.50664578 -1.44276436]\n",
      " [ 0.23261993 -1.9289866   0.72966956  0.42316645]\n",
      " [ 1.69538284  0.32056046  1.30308374  0.82300877]\n",
      " [-1.47393679  0.09560575 -1.27728011 -1.30948358]\n",
      " [-0.86445224  0.99542457 -1.33462153 -1.17620281]\n",
      " [-1.7177306  -0.12934896 -1.39196294 -1.30948358]\n",
      " [ 0.59831066 -1.25412249  0.67232814  0.42316645]\n",
      " [ 0.59831066  0.77046987  1.07371807  1.6226934 ]\n",
      " [-1.47393679  0.77046987 -1.33462153 -1.17620281]\n",
      " [ 1.2077952  -0.12934896  1.01637665  1.22285108]\n",
      " [ 0.59831066  0.54551516  1.30308374  1.75597417]\n",
      " [-1.35203988  0.32056046 -1.39196294 -1.30948358]\n",
      " [ 0.35451684 -0.35430366  0.5576453   0.28988568]\n",
      " [ 0.84210448 -0.57925837  0.50030388  0.42316645]\n",
      " [ 0.47641375 -0.57925837  0.61498672  0.82300877]\n",
      " [ 1.45158902  0.32056046  0.5576453   0.28988568]\n",
      " [ 0.72020757  0.32056046  0.90169381  1.48941263]\n",
      " [-0.86445224  1.67028869 -1.21993869 -1.30948358]\n",
      " [ 1.32969211  0.09560575  0.95903523  1.22285108]\n",
      " [ 0.11072303 -0.12934896  0.2709382   0.42316645]\n",
      " [ 0.84210448 -0.12934896  0.84435239  1.08957031]\n",
      " [-0.13307079 -1.02916778 -0.13045173 -0.24323741]\n",
      " [-0.74255534 -0.80421307  0.09891395  0.28988568]\n",
      " [ 0.35451684 -0.12934896  0.50030388  0.28988568]\n",
      " [-1.5958337  -1.7040319  -1.39196294 -1.17620281]\n",
      " [ 0.96400139 -0.35430366  0.50030388  0.15660491]\n",
      " [-0.37686461 -1.02916778  0.38562104  0.02332414]\n",
      " [-0.62065843  1.44533399 -1.27728011 -1.30948358]\n",
      " [-0.2549677  -0.12934896  0.21359679  0.15660491]\n",
      " [ 1.81727975 -0.35430366  1.475108    0.82300877]\n",
      " [ 1.08589829  0.54551516  1.13105949  1.22285108]\n",
      " [-0.86445224  1.44533399 -1.27728011 -1.04292204]\n",
      " [-1.10824606 -1.47907719 -0.24513457 -0.24323741]\n",
      " [ 1.08589829  0.54551516  1.13105949  1.75597417]\n",
      " [ 1.69538284 -0.12934896  1.18840091  0.55644722]\n",
      " [-1.10824606  0.09560575 -1.27728011 -1.44276436]\n",
      " [ 1.08589829  0.09560575  1.07371807  1.6226934 ]\n",
      " [-1.10824606 -0.12934896 -1.33462153 -1.30948358]\n",
      " [ 1.32969211  0.09560575  0.67232814  0.42316645]\n",
      " [ 1.93917666 -0.57925837  1.36042516  0.95628954]\n",
      " [ 0.59831066 -0.35430366  1.07371807  0.82300877]\n",
      " [-0.13307079 -0.57925837  0.21359679  0.15660491]\n",
      " [ 0.84210448 -0.12934896  1.01637665  0.82300877]\n",
      " [ 0.59831066 -1.7040319   0.38562104  0.15660491]\n",
      " [ 0.72020757 -0.35430366  0.32827962  0.15660491]\n",
      " [-0.2549677  -0.57925837  0.67232814  1.08957031]\n",
      " [ 0.11072303 -0.12934896  0.78701097  0.82300877]\n",
      " [-0.49876152  0.77046987 -1.16259727 -1.30948358]\n",
      " [ 0.35451684 -0.57925837  0.15625537  0.15660491]\n",
      " [-1.10824606 -1.25412249  0.44296246  0.68972799]\n",
      " [-0.01117388  2.1201981  -1.44930436 -1.30948358]\n",
      " [-0.01117388 -1.02916778  0.15625537  0.02332414]\n",
      " [ 1.57348593 -0.12934896  1.24574233  1.22285108]]\n",
      "[[ 0.14443512 -0.63451517  0.45110832 -0.07943674]\n",
      " [-0.33701527  2.00929805 -1.2060243  -1.20827465]\n",
      " [ 2.07023667 -1.16327782  1.66633891  1.30025404]\n",
      " [ 0.02407252 -0.37013385  0.34063282  0.29684256]\n",
      " [ 0.98697329 -0.63451517  0.50634608  0.17141613]\n",
      " [-0.69810306  0.95177276 -1.3164998  -1.08284822]\n",
      " [-0.45737787 -0.37013385 -0.15650697  0.04598969]\n",
      " [ 1.10733589  0.15862879  0.67205934  1.30025404]\n",
      " [ 0.26479771 -2.22080311  0.34063282  0.29684256]\n",
      " [-0.21665267 -0.8988965   0.00920629 -0.07943674]\n",
      " [ 0.6258855   0.42301012  0.67205934  0.92397473]\n",
      " [-1.42027864 -0.10575253 -1.37173756 -1.45912752]\n",
      " [-0.57774046  1.21615408 -1.42697531 -1.33370109]\n",
      " [-1.29991605  0.15862879 -1.3164998  -1.45912752]\n",
      " [-1.05919085  2.00929805 -1.3164998  -1.20827465]\n",
      " [ 0.38516031  0.68739144  0.45110832  0.422269  ]\n",
      " [ 0.6258855  -0.10575253  1.05872362  1.1748276 ]\n",
      " [-0.45737787 -1.42765914  0.00920629 -0.20486318]\n",
      " [-0.33701527 -0.63451517  0.34063282  0.04598969]\n",
      " [ 0.50552291 -0.63451517  0.94824811  1.1748276 ]\n",
      " [-1.54064124  0.42301012 -1.26126205 -1.33370109]\n",
      " [ 0.14443512 -0.10575253  0.56158383  0.67312186]\n",
      " [-1.17955345  0.95177276 -1.26126205 -1.08284822]\n",
      " [ 0.50552291 -0.63451517  0.94824811  1.04940117]\n",
      " [ 2.31096186  2.00929805  1.39015014  0.92397473]\n",
      " [ 0.8666107  -0.10575253  0.72729709  1.30025404]\n",
      " [ 0.8666107  -1.42765914  1.05872362  0.67312186]\n",
      " [ 0.98697329  0.42301012  1.11396137  1.30025404]\n",
      " [-1.42027864 -0.10575253 -1.37173756 -1.20827465]\n",
      " [-1.42027864  0.15862879 -1.26126205 -1.33370109]]\n"
     ]
    }
   ],
   "source": [
    "#Scaling data training and data test\n",
    "scaler = StandardScaler()\n",
    "X_train_scaled = scaler.fit_transform(X_train)\n",
    "X_test_scaled = scaler.fit_transform(X_test)\n",
    "print(X_train_scaled)\n",
    "print(X_test_scaled)"
   ]
  },
  {
   "cell_type": "code",
   "execution_count": 39,
   "metadata": {},
   "outputs": [
    {
     "name": "stdout",
     "output_type": "stream",
     "text": [
      "   SepalLengthCm  SepalWidthCm  PetalLengthCm  PetalWidthCm      Species\n",
      "0            5.1           3.5            1.4           0.2  Iris-setosa\n",
      "1            4.9           3.0            1.4           0.2  Iris-setosa\n",
      "2            4.7           3.2            1.3           0.2  Iris-setosa\n",
      "3            4.6           3.1            1.5           0.2  Iris-setosa\n",
      "4            5.0           3.6            1.4           0.2  Iris-setosa\n"
     ]
    }
   ],
   "source": [
    "print(df1.head())"
   ]
  },
  {
   "cell_type": "code",
   "execution_count": 42,
   "metadata": {},
   "outputs": [
    {
     "data": {
      "text/html": [
       "<style>#sk-container-id-2 {color: black;}#sk-container-id-2 pre{padding: 0;}#sk-container-id-2 div.sk-toggleable {background-color: white;}#sk-container-id-2 label.sk-toggleable__label {cursor: pointer;display: block;width: 100%;margin-bottom: 0;padding: 0.3em;box-sizing: border-box;text-align: center;}#sk-container-id-2 label.sk-toggleable__label-arrow:before {content: \"▸\";float: left;margin-right: 0.25em;color: #696969;}#sk-container-id-2 label.sk-toggleable__label-arrow:hover:before {color: black;}#sk-container-id-2 div.sk-estimator:hover label.sk-toggleable__label-arrow:before {color: black;}#sk-container-id-2 div.sk-toggleable__content {max-height: 0;max-width: 0;overflow: hidden;text-align: left;background-color: #f0f8ff;}#sk-container-id-2 div.sk-toggleable__content pre {margin: 0.2em;color: black;border-radius: 0.25em;background-color: #f0f8ff;}#sk-container-id-2 input.sk-toggleable__control:checked~div.sk-toggleable__content {max-height: 200px;max-width: 100%;overflow: auto;}#sk-container-id-2 input.sk-toggleable__control:checked~label.sk-toggleable__label-arrow:before {content: \"▾\";}#sk-container-id-2 div.sk-estimator input.sk-toggleable__control:checked~label.sk-toggleable__label {background-color: #d4ebff;}#sk-container-id-2 div.sk-label input.sk-toggleable__control:checked~label.sk-toggleable__label {background-color: #d4ebff;}#sk-container-id-2 input.sk-hidden--visually {border: 0;clip: rect(1px 1px 1px 1px);clip: rect(1px, 1px, 1px, 1px);height: 1px;margin: -1px;overflow: hidden;padding: 0;position: absolute;width: 1px;}#sk-container-id-2 div.sk-estimator {font-family: monospace;background-color: #f0f8ff;border: 1px dotted black;border-radius: 0.25em;box-sizing: border-box;margin-bottom: 0.5em;}#sk-container-id-2 div.sk-estimator:hover {background-color: #d4ebff;}#sk-container-id-2 div.sk-parallel-item::after {content: \"\";width: 100%;border-bottom: 1px solid gray;flex-grow: 1;}#sk-container-id-2 div.sk-label:hover label.sk-toggleable__label {background-color: #d4ebff;}#sk-container-id-2 div.sk-serial::before {content: \"\";position: absolute;border-left: 1px solid gray;box-sizing: border-box;top: 0;bottom: 0;left: 50%;z-index: 0;}#sk-container-id-2 div.sk-serial {display: flex;flex-direction: column;align-items: center;background-color: white;padding-right: 0.2em;padding-left: 0.2em;position: relative;}#sk-container-id-2 div.sk-item {position: relative;z-index: 1;}#sk-container-id-2 div.sk-parallel {display: flex;align-items: stretch;justify-content: center;background-color: white;position: relative;}#sk-container-id-2 div.sk-item::before, #sk-container-id-2 div.sk-parallel-item::before {content: \"\";position: absolute;border-left: 1px solid gray;box-sizing: border-box;top: 0;bottom: 0;left: 50%;z-index: -1;}#sk-container-id-2 div.sk-parallel-item {display: flex;flex-direction: column;z-index: 1;position: relative;background-color: white;}#sk-container-id-2 div.sk-parallel-item:first-child::after {align-self: flex-end;width: 50%;}#sk-container-id-2 div.sk-parallel-item:last-child::after {align-self: flex-start;width: 50%;}#sk-container-id-2 div.sk-parallel-item:only-child::after {width: 0;}#sk-container-id-2 div.sk-dashed-wrapped {border: 1px dashed gray;margin: 0 0.4em 0.5em 0.4em;box-sizing: border-box;padding-bottom: 0.4em;background-color: white;}#sk-container-id-2 div.sk-label label {font-family: monospace;font-weight: bold;display: inline-block;line-height: 1.2em;}#sk-container-id-2 div.sk-label-container {text-align: center;}#sk-container-id-2 div.sk-container {/* jupyter's `normalize.less` sets `[hidden] { display: none; }` but bootstrap.min.css set `[hidden] { display: none !important; }` so we also need the `!important` here to be able to override the default hidden behavior on the sphinx rendered scikit-learn.org. See: https://github.com/scikit-learn/scikit-learn/issues/21755 */display: inline-block !important;position: relative;}#sk-container-id-2 div.sk-text-repr-fallback {display: none;}</style><div id=\"sk-container-id-2\" class=\"sk-top-container\"><div class=\"sk-text-repr-fallback\"><pre>LogisticRegression()</pre><b>In a Jupyter environment, please rerun this cell to show the HTML representation or trust the notebook. <br />On GitHub, the HTML representation is unable to render, please try loading this page with nbviewer.org.</b></div><div class=\"sk-container\" hidden><div class=\"sk-item\"><div class=\"sk-estimator sk-toggleable\"><input class=\"sk-toggleable__control sk-hidden--visually\" id=\"sk-estimator-id-2\" type=\"checkbox\" checked><label for=\"sk-estimator-id-2\" class=\"sk-toggleable__label sk-toggleable__label-arrow\">LogisticRegression</label><div class=\"sk-toggleable__content\"><pre>LogisticRegression()</pre></div></div></div></div></div>"
      ],
      "text/plain": [
       "LogisticRegression()"
      ]
     },
     "execution_count": 42,
     "metadata": {},
     "output_type": "execute_result"
    }
   ],
   "source": [
    "model = LogisticRegression()\n",
    "\n",
    "model.fit(X_train_scaled, Y_train)"
   ]
  },
  {
   "cell_type": "code",
   "execution_count": 43,
   "metadata": {},
   "outputs": [
    {
     "name": "stdout",
     "output_type": "stream",
     "text": [
      "0.9666666666666667\n"
     ]
    }
   ],
   "source": [
    "Y_pred = model.predict(X_test_scaled)\n",
    "acc = accuracy_score(Y_test, Y_pred)\n",
    "print(acc)"
   ]
  },
  {
   "cell_type": "code",
   "execution_count": 44,
   "metadata": {},
   "outputs": [
    {
     "name": "stdout",
     "output_type": "stream",
     "text": [
      "[[10  0  0]\n",
      " [ 0  9  0]\n",
      " [ 0  1 10]]\n"
     ]
    }
   ],
   "source": [
    "confusion = confusion_matrix(Y_test, Y_pred)\n",
    "print(confusion)"
   ]
  }
 ],
 "metadata": {
  "kernelspec": {
   "display_name": "Python 3",
   "language": "python",
   "name": "python3"
  },
  "language_info": {
   "codemirror_mode": {
    "name": "ipython",
    "version": 3
   },
   "file_extension": ".py",
   "mimetype": "text/x-python",
   "name": "python",
   "nbconvert_exporter": "python",
   "pygments_lexer": "ipython3",
   "version": "3.11.5"
  }
 },
 "nbformat": 4,
 "nbformat_minor": 2
}
